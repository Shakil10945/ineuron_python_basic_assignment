{
 "cells": [
  {
   "cell_type": "markdown",
   "metadata": {},
   "source": [
    "01-->\n",
    "\n",
    "There are many reasons to be advantageous of a function they are witten bellow:\n",
    "\n",
    "    1. Modularity\n",
    "    \n",
    "    2. Code Readability\n",
    "\n",
    "    3. Testing and Debugging\n",
    "\n",
    "    4. Scoping"
   ]
  },
  {
   "cell_type": "markdown",
   "metadata": {},
   "source": []
  },
  {
   "cell_type": "markdown",
   "metadata": {},
   "source": []
  },
  {
   "cell_type": "markdown",
   "metadata": {},
   "source": [
    "02-->\n",
    "\n",
    "When a function is called, it start runnig\n"
   ]
  },
  {
   "cell_type": "markdown",
   "metadata": {},
   "source": []
  },
  {
   "cell_type": "markdown",
   "metadata": {},
   "source": [
    "03-->\n",
    "\n",
    "In python a function is created by a statement called 'def'"
   ]
  },
  {
   "cell_type": "markdown",
   "metadata": {},
   "source": []
  },
  {
   "cell_type": "markdown",
   "metadata": {},
   "source": [
    "04-->\n",
    "\n",
    "A function is basically a block of codes, while a function calling is used when the function is need to execute."
   ]
  },
  {
   "cell_type": "markdown",
   "metadata": {},
   "source": []
  },
  {
   "cell_type": "markdown",
   "metadata": {},
   "source": [
    "05-->\n",
    "\n",
    "There is only one global scope in a python while you can use as many as you want to create local scopes."
   ]
  },
  {
   "cell_type": "markdown",
   "metadata": {},
   "source": []
  },
  {
   "cell_type": "markdown",
   "metadata": {},
   "source": [
    "06-->\n",
    "\n",
    "When a function call return in Python, the local scope associated with that function is destroyed, and any variables defined within that local scope cease to exist."
   ]
  },
  {
   "cell_type": "markdown",
   "metadata": {},
   "source": []
  },
  {
   "cell_type": "markdown",
   "metadata": {},
   "source": [
    "07-->\n",
    "\n",
    "The concept of return value is associated with function. A function is used or created for a particular reason that might be for example, a calculation. After calculating, the calculated value can be returned from that function.\n",
    "\n",
    "Yes, it is obviously possible to have a value in an expressio. for example\n",
    "\n",
    "result = fun()\n",
    "\n",
    "here, fun is a function which returns a value which might be any types of data. after returning the value, it is stored in result variable. \n",
    "\n"
   ]
  },
  {
   "cell_type": "markdown",
   "metadata": {},
   "source": []
  },
  {
   "cell_type": "markdown",
   "metadata": {},
   "source": [
    "8-->\n",
    "\n",
    "If a function in Python does not explicitly contain a return statement, the function implicitly returns 'None'. 'None' is  a special Python object that represents the absence of a value. It is often used to indicate that a function does not retrun any meaninggul result"
   ]
  },
  {
   "cell_type": "markdown",
   "metadata": {},
   "source": []
  },
  {
   "cell_type": "markdown",
   "metadata": {},
   "source": [
    "9-->\n",
    "\n",
    "In Python, i fyou want to access or modify a global variable from a function, you can use the 'global' keyword to declare that variable is a  global variable within the function scope. Here's how you can do it:\n",
    "\n",
    "\n",
    "length = 10\n",
    "\n",
    "width = 5\n",
    "\n",
    "def acc_glob_va():\n",
    "\n",
    "    global length\n",
    "\n",
    "    print(length)\n",
    "    \n",
    "\n",
    "    global width\n",
    "\n",
    "    width = 200"
   ]
  },
  {
   "cell_type": "markdown",
   "metadata": {},
   "source": []
  },
  {
   "cell_type": "markdown",
   "metadata": {},
   "source": [
    "10-->\n",
    "\n",
    "The data type of 'None' is 'NoneType', it is a special data type in python. "
   ]
  },
  {
   "cell_type": "markdown",
   "metadata": {},
   "source": []
  },
  {
   "cell_type": "markdown",
   "metadata": {},
   "source": [
    "11-->\n",
    "\n",
    "The sentence 'import areallyourpetsnamederic' doesn't have any inherent meaning in Python. However, it follows the syntax of a Python import statement, which typically allows you to import a module or packes into your Python code. Means that areallyourpetsnamederic is name of a module or package."
   ]
  },
  {
   "cell_type": "markdown",
   "metadata": {},
   "source": []
  },
  {
   "cell_type": "markdown",
   "metadata": {},
   "source": [
    "12-->\n",
    "\n",
    "After importing spam, I would call bacom function as spam.bacom()"
   ]
  },
  {
   "cell_type": "markdown",
   "metadata": {},
   "source": []
  },
  {
   "cell_type": "markdown",
   "metadata": {},
   "source": [
    "13-->\n",
    "\n",
    "To prevent a program from crashing when it encounters an error, I can implement error handling mechanisms such as exception handling. In Python, this is typically done using 'try', 'except', 'finally' and 'else' blocks."
   ]
  },
  {
   "cell_type": "markdown",
   "metadata": {},
   "source": []
  },
  {
   "cell_type": "markdown",
   "metadata": {},
   "source": [
    "14-->\n",
    "\n",
    "The 'try' and 'except' clauses are part of Python's exception handling mechanism, whcih allows us to gracefully handle errors that may occur during the execution of our code.\n",
    "\n",
    "The 'try' clause is used to execute that block first. If there occurs any error, the code then try to execute the 'execept' block."
   ]
  },
  {
   "cell_type": "markdown",
   "metadata": {},
   "source": []
  }
 ],
 "metadata": {
  "language_info": {
   "name": "python"
  }
 },
 "nbformat": 4,
 "nbformat_minor": 2
}
