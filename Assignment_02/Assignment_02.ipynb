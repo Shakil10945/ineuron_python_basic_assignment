{
 "cells": [
  {
   "cell_type": "markdown",
   "metadata": {},
   "source": [
    "Question-01: What are the two values of the Boolean data type? How do you write them?\n",
    "\n",
    "\"Answer to the question number 01\"\n",
    "\n",
    "The two values of Boolean Data Type are: True and False.\n",
    "\n",
    "In python true should be written as \"True\" and false should be written as \"False\", ohterwise it will not accept as python is a case sensitive languagae."
   ]
  },
  {
   "cell_type": "markdown",
   "metadata": {},
   "source": []
  },
  {
   "cell_type": "markdown",
   "metadata": {},
   "source": []
  }
 ],
 "metadata": {
  "kernelspec": {
   "display_name": "Python 3",
   "language": "python",
   "name": "python3"
  },
  "language_info": {
   "codemirror_mode": {
    "name": "ipython",
    "version": 3
   },
   "file_extension": ".py",
   "mimetype": "text/x-python",
   "name": "python",
   "nbconvert_exporter": "python",
   "pygments_lexer": "ipython3",
   "version": "3.12.1"
  }
 },
 "nbformat": 4,
 "nbformat_minor": 2
}
