{
 "cells": [
  {
   "cell_type": "markdown",
   "metadata": {},
   "source": [
    "Question-01: What are the two values of the Boolean data type? How do you write them?\n",
    "\n",
    "\"Answer to the question number 01\"\n",
    "\n",
    "The two values of Boolean Data Type are: True and False.\n",
    "\n",
    "In python true should be written as \"True\" and false should be written as \"False\", ohterwise it will not accept as python is a case sensitive languagae."
   ]
  },
  {
   "cell_type": "markdown",
   "metadata": {},
   "source": []
  },
  {
   "cell_type": "markdown",
   "metadata": {},
   "source": [
    "Question-02: What are the three different types of Boolean operators? \n",
    "\n",
    "\"Answer to the Quetion number 02\"\n",
    "\n",
    "The three differnet types fo Boolean operators are AND, OR and NOT."
   ]
  },
  {
   "cell_type": "code",
   "execution_count": null,
   "metadata": {},
   "outputs": [],
   "source": []
  },
  {
   "cell_type": "markdown",
   "metadata": {},
   "source": [
    "Question-03: Make a list of each Boolean operator's truth tables (i.e. every possible combination of Boolean \n",
    "values for the operator and what it evaluate )\n",
    "    \n",
    "\"Answer to the question number 03\"\n",
    "\n",
    "For AND operator:\n",
    "\n",
    "1. False . False = False\n",
    "\n",
    "2. False . True = False\n",
    "\n",
    "3. True . False = False\n",
    "\n",
    "4. True . True = True\n",
    "\n",
    "For OR operaotr:\n",
    "\n",
    "1. False + False = False\n",
    "\n",
    "2. False + True = True\n",
    "\n",
    "3. True + False = True\n",
    "\n",
    "4. True + True = True\n",
    "\n",
    "For NOT operaotr:\n",
    "\n",
    "1. not False = True\n",
    "\n",
    "2. not True = False"
   ]
  },
  {
   "cell_type": "code",
   "execution_count": null,
   "metadata": {},
   "outputs": [],
   "source": []
  },
  {
   "cell_type": "markdown",
   "metadata": {},
   "source": [
    "Question-04: What are the values of the following expressions? (5 > 4) and (3 == 5) not (5 > 4) (5 > 4) or (3 == 5) not ((5 > 4) or (3 == 5)) (True and True) and (True == False) (not False) or (not True)\n",
    "\n",
    "\"Answer to the question number 04:\n",
    "\n",
    "(5 > 4) and (3 == 5) --> False\n",
    "\n",
    "not (5 > 4)--> False\n",
    "\n",
    "(5 > 4) or (3 == 5)--> True\n",
    "\n",
    "not ((5 > 4) or (3 == 5))--> False\n",
    "\n",
    "(True and True) and (True == False)--> False\n",
    "\n",
    "(not False) or (not True)--> True"
   ]
  },
  {
   "cell_type": "markdown",
   "metadata": {},
   "source": []
  },
  {
   "cell_type": "markdown",
   "metadata": {},
   "source": [
    "Question-05: What are the six comparison operators? \n",
    "\n",
    "\"Answer to the question number 05\"\n",
    "\n",
    "The six comparision operators are written bellow:\n",
    "\n",
    "    1. > Greater than\n",
    "\n",
    "    2. < Smaller than\n",
    "\n",
    "    3. >= Greater equal\n",
    "\n",
    "    4. <= Smaller equal\n",
    "\n",
    "    5. == Equal\n",
    "\n",
    "    6. != Not Equal"
   ]
  },
  {
   "cell_type": "markdown",
   "metadata": {},
   "source": []
  },
  {
   "cell_type": "markdown",
   "metadata": {},
   "source": [
    "Question-06: How do you tell the difference between the equal to and assignment operators?Describe a \n",
    "condition and when you would use one.\n",
    "\n",
    "\"Answer to the question number 06\"\n",
    "\n",
    "The main difference between equal to and assignment operators is equal to '==' operator is mainly used to compare two variables or two things while assignment '=' operator is used to declare a variable.\n",
    "\n",
    "For example if we declare variables 'a' and 'b' as a = 5, b = 6; we need to use assignment operator. On the other hand, if we want to compare these two whether these two are equal or not we need to use equal to operator a==b. "
   ]
  },
  {
   "cell_type": "markdown",
   "metadata": {},
   "source": []
  },
  {
   "cell_type": "markdown",
   "metadata": {},
   "source": [
    "Question-07: Identify the three blocks in this code: spam = 0 if spam == 10: print('eggs') if spam > 5: print('bacon') else: print('ham') print('spam') print('spam') \n",
    "\n",
    "\"Answer to the question number 07\"\n",
    "\n",
    "block =1:\n",
    "\n",
    "spam = 0\n",
    "\n",
    "if spam ==10:\n",
    "\n",
    "    print('eggs')\n",
    "\n",
    "block =2:\n",
    "\n",
    "        if spam > 5:\n",
    "\n",
    "            print('bacon')\n",
    "\n",
    "        else:\n",
    "\n",
    "            print('ham')\n",
    "\n",
    "block = 3:\n",
    "\n",
    "    print('spam') \n",
    "\n",
    "print('spam')\n",
    "        "
   ]
  },
  {
   "cell_type": "markdown",
   "metadata": {},
   "source": []
  },
  {
   "cell_type": "markdown",
   "metadata": {},
   "source": []
  }
 ],
 "metadata": {
  "kernelspec": {
   "display_name": "Python 3",
   "language": "python",
   "name": "python3"
  },
  "language_info": {
   "codemirror_mode": {
    "name": "ipython",
    "version": 3
   },
   "file_extension": ".py",
   "mimetype": "text/x-python",
   "name": "python",
   "nbconvert_exporter": "python",
   "pygments_lexer": "ipython3",
   "version": "3.12.1"
  }
 },
 "nbformat": 4,
 "nbformat_minor": 2
}
