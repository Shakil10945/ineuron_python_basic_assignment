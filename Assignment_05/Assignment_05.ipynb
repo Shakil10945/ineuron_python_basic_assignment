{
 "cells": [
  {
   "cell_type": "markdown",
   "metadata": {},
   "source": [
    "01-->\n",
    "\n",
    "An empty ditionary's code looks like as:\n",
    "\n",
    "dict = {}\n"
   ]
  },
  {
   "cell_type": "markdown",
   "metadata": {},
   "source": [
    "02-->\n",
    "\n",
    "The value of a dictionary value with the key 'foo' and the value 42 is simply 42\n"
   ]
  },
  {
   "cell_type": "markdown",
   "metadata": {},
   "source": [
    "03--> \n",
    "\n",
    "The most significant distinction between a dictionary and a list is their structure and the way they store their data. List can store only value, while dictionary is capable to store both key and value."
   ]
  },
  {
   "cell_type": "markdown",
   "metadata": {},
   "source": [
    "04-->\n",
    "\n",
    "\n",
    "In python trying to access spam['foo'] if spam is {'bar': 100} will raise a key error. "
   ]
  },
  {
   "cell_type": "markdown",
   "metadata": {},
   "source": [
    "05-->\n",
    "\n",
    "The expressions ''cat' in spam' and ''cat' in spam.keys()' have a slightly difference, although both of them returns a boolean value. ''cat' in spam' directly checks whether 'cat' is key of spam or not. On the other hand, ''cat' in spam.keys()' at first create a list of keys of spam and then checks whether 'cat' is present or not. "
   ]
  },
  {
   "cell_type": "markdown",
   "metadata": {},
   "source": [
    "06-->\n",
    "\n",
    "There is a huge difference between the expressions ''cat' in spam' and ''cat'in spam.values()'. ''cat'in spam' checks whether a key named 'cat' is present or not, while ''cat' in spam.values()' checks whether a value named 'cat' present or not."
   ]
  },
  {
   "cell_type": "markdown",
   "metadata": {},
   "source": [
    "07-->\n",
    "\n",
    "if 'color' not in spam:\n",
    "\n",
    "    spam['color'] = 'black'\n",
    "\n",
    "The shortcut for the above code is written bellow:\n",
    "\n",
    "spam.setdefault('color' , 'black')\n",
    "\n",
    "spam.setdefault() method actually checks whehter color as a key available or not, if False then it adds new key as 'color' and new value as 'black'."
   ]
  },
  {
   "cell_type": "markdown",
   "metadata": {},
   "source": [
    "08-->\n",
    "\n",
    "To \"pretty print\" dictionary values, we can use the 'pprint' module in Python, specially teh pprint() function. \n",
    "\n",
    "import pprint\n",
    "\n",
    "spam = {'name' : 'John', 'age' : 30, 'city' : 'New York'}\n",
    "\n",
    "pprint.pprint(spam)\n",
    "\n",
    "This will print the dictionary 'spam' in a more readable format, with each key-value pair on its own line and indentation to represent nested structures. The 'pprint()' function is particularly useful when dealing with nestd dictionaris or large structures, as it improves readability compared to the standard 'print()' function.\n",
    "\n"
   ]
  },
  {
   "cell_type": "markdown",
   "metadata": {},
   "source": []
  }
 ],
 "metadata": {
  "kernelspec": {
   "display_name": "Python 3",
   "language": "python",
   "name": "python3"
  },
  "language_info": {
   "codemirror_mode": {
    "name": "ipython",
    "version": 3
   },
   "file_extension": ".py",
   "mimetype": "text/x-python",
   "name": "python",
   "nbconvert_exporter": "python",
   "pygments_lexer": "ipython3",
   "version": "3.12.1"
  }
 },
 "nbformat": 4,
 "nbformat_minor": 2
}
