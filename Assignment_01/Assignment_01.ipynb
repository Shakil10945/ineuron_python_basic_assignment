{
 "cells": [
  {
   "cell_type": "code",
   "execution_count": 4,
   "metadata": {},
   "outputs": [
    {
     "data": {
      "text/plain": [
       "\"Answer to the Question Number 01\\n-------------------------------------\\n*       | Expression\\n'hello' | Value \\n-87.8   | Value \\n-       | Expression \\n/       | Expression\\n+       | Expression\\n6       | Value \\n\""
      ]
     },
     "execution_count": 4,
     "metadata": {},
     "output_type": "execute_result"
    }
   ],
   "source": [
    "\"\"\"Answer to the Question Number 01\n",
    "-------------------------------------\n",
    "*       | Expression\n",
    "'hello' | Value \n",
    "-87.8   | Value \n",
    "-       | Expression \n",
    "/       | Expression\n",
    "+       | Expression\n",
    "6       | Value \n",
    "\"\"\""
   ]
  },
  {
   "cell_type": "code",
   "execution_count": null,
   "metadata": {},
   "outputs": [],
   "source": [
    "\"\"\"Answer to the Question Number 02\n",
    "-------------------------------------\n",
    "A variable Is something that holds value, while a string is one of many types of values \n",
    "\"\"\""
   ]
  },
  {
   "cell_type": "code",
   "execution_count": null,
   "metadata": {},
   "outputs": [],
   "source": [
    "\"\"\"Answer to the Question Number 03\n",
    "-------------------------------------\n",
    "There are many kinds of data types available in the programming language. Among them, three different data types are written below: \n",
    "    1. Integer: Integer is such kind of data which only consists numbers which are not discrete. The thing we need to notice that both positive and negative discrete values can be integer.  \n",
    "    2. String: String is actually a combination of numbers, letters and special characters. It basically represents the texts. \n",
    "    3. Boolean: Boolean is also another kind of data type which only considers 0 and 1 or it may be said yes/no. It is also an important data type. \n",
    "\"\"\""
   ]
  },
  {
   "cell_type": "code",
   "execution_count": null,
   "metadata": {},
   "outputs": [],
   "source": [
    "\"\"\"Answer to the Question Number 04\n",
    "-------------------------------------\n",
    "An expression is a combination of variables, operators and constants.  All expressions may consist one or more operands, zero and one or more operators to produce a value\n",
    "\"\"\""
   ]
  },
  {
   "cell_type": "code",
   "execution_count": null,
   "metadata": {},
   "outputs": [],
   "source": [
    "\"\"\"Answer to the Question Number 05\n",
    "-------------------------------------\n",
    "The key difference between an expression and statement is the expression is value and while it can be used or assigned as an operand while statements can only be declared.  \n",
    "\"\"\""
   ]
  },
  {
   "cell_type": "code",
   "execution_count": null,
   "metadata": {},
   "outputs": [],
   "source": [
    "\"\"\"Answer to the Question Number 06\n",
    "-------------------------------------\n",
    "22  \n",
    "\"\"\""
   ]
  },
  {
   "cell_type": "code",
   "execution_count": null,
   "metadata": {},
   "outputs": [],
   "source": [
    "\"\"\"Answer to the Question Number 07\n",
    "-------------------------------------\n",
    "\"spamspamspam\" \"spamspamspam\"\n",
    "\"\"\""
   ]
  },
  {
   "cell_type": "code",
   "execution_count": null,
   "metadata": {},
   "outputs": [],
   "source": [
    "\"\"\"Answer to the Question Number 08\n",
    "-------------------------------------\n",
    "eggs is a valid variable name while 100 is invalid, because, a variable’s name can not be started with a number while it is safe to start with letter. \n",
    "\"\"\""
   ]
  },
  {
   "cell_type": "code",
   "execution_count": null,
   "metadata": {},
   "outputs": [],
   "source": [
    "\"\"\"Answer to the Question Number 09\n",
    "-------------------------------------\n",
    "To get integer int() is used, float() is used to get floating number and str() is used to get string version of a value. \n",
    "\"\"\""
   ]
  },
  {
   "cell_type": "code",
   "execution_count": null,
   "metadata": {},
   "outputs": [],
   "source": [
    "\"\"\"Answer to the Question Number 10\n",
    "-------------------------------------\n",
    "The only way the expression cause an error is 99. Here 99 is an integer. It is not possible to concatenate an integer with an string.  So, the solution will be 'I have eaten' + str(99) + 'burritos.' \n",
    "\"\"\""
   ]
  }
 ],
 "metadata": {
  "kernelspec": {
   "display_name": "Python 3",
   "language": "python",
   "name": "python3"
  },
  "language_info": {
   "codemirror_mode": {
    "name": "ipython",
    "version": 3
   },
   "file_extension": ".py",
   "mimetype": "text/x-python",
   "name": "python",
   "nbconvert_exporter": "python",
   "pygments_lexer": "ipython3",
   "version": "3.12.1"
  }
 },
 "nbformat": 4,
 "nbformat_minor": 2
}
