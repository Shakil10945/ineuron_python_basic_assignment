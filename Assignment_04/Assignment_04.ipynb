{
 "cells": [
  {
   "cell_type": "markdown",
   "metadata": {},
   "source": [
    "01-->\n",
    "\n",
    "'[]' is nothing but an empty list in python"
   ]
  },
  {
   "cell_type": "markdown",
   "metadata": {},
   "source": []
  },
  {
   "cell_type": "markdown",
   "metadata": {},
   "source": [
    "02-->\n",
    "\n",
    "spam = [2,4,6,8,10]\n",
    "spam[2] = 'hello'"
   ]
  },
  {
   "cell_type": "markdown",
   "metadata": {},
   "source": []
  },
  {
   "cell_type": "markdown",
   "metadata": {},
   "source": [
    "03-->\n",
    "\n",
    "spam = ['a', 'b', 'c', 'd']\n",
    "spam[(int(int('3'*2)/11))] = d"
   ]
  },
  {
   "cell_type": "markdown",
   "metadata": {},
   "source": []
  },
  {
   "cell_type": "markdown",
   "metadata": {},
   "source": [
    "04-->\n",
    "\n",
    "spam[-1] = d"
   ]
  },
  {
   "cell_type": "markdown",
   "metadata": {},
   "source": []
  },
  {
   "cell_type": "markdown",
   "metadata": {},
   "source": [
    "05-->\n",
    "\n",
    "spam[-2] = c"
   ]
  },
  {
   "cell_type": "markdown",
   "metadata": {},
   "source": [
    "bacon = [3.14, 'cat', 11, 'cat', True]\n",
    "\n",
    "06-->\n",
    "\n",
    "bacon.index('cat') = 1"
   ]
  },
  {
   "cell_type": "markdown",
   "metadata": {},
   "source": [
    "07-->\n",
    "\n",
    "bacon.append(99)\n",
    "\n",
    "bacon = [3.14, 'cat', 11, 'cat', True, 99]"
   ]
  },
  {
   "cell_type": "markdown",
   "metadata": {},
   "source": [
    "08-->\n",
    "\n",
    "bacon.remove('cat')\n",
    "\n",
    "bacon = [3.14, 11, 'cat', True, 99]"
   ]
  },
  {
   "cell_type": "markdown",
   "metadata": {},
   "source": [
    "09-->\n",
    "\n",
    "List concatanation operator is (+). This means when two lists are concatanated (+) is used to concate them.\n",
    "\n",
    "List replication operator is (*), it actually replicates the list in a multiple times or the number of times as you wish."
   ]
  },
  {
   "cell_type": "markdown",
   "metadata": {},
   "source": [
    "10-->\n",
    "\n",
    "append() actually adds a value into the list at the last index, but insert actually adds a value indexwise. Simply, append() takes only value and put it at the last of the index and insert() takes two arguments- value, index."
   ]
  },
  {
   "cell_type": "markdown",
   "metadata": {},
   "source": [
    "11-->\n",
    "\n",
    "remove() and pop() are the two methods which are used to remove a value from a list. remove() takes value as a  parameter and removes that particular value while pop() takes index as a parameter and remove that index's value."
   ]
  },
  {
   "cell_type": "markdown",
   "metadata": {},
   "source": [
    "12-->\n",
    "\n",
    "List and string are idnetical through the following ways:\n",
    "\n",
    "    1. Sequential Storage\n",
    "\n",
    "    2. Ordered Collection\n",
    "\n",
    "    3. Iteration\n",
    "\n",
    "    4. Slicing\n",
    "\n",
    "    5. Concatation and Replication\n",
    "\n",
    "    6. Membership Testing"
   ]
  },
  {
   "cell_type": "markdown",
   "metadata": {},
   "source": []
  },
  {
   "cell_type": "markdown",
   "metadata": {},
   "source": [
    "13-->\n",
    "\n",
    "The main difference between list and touple are mutability. List is mutable- it can be change any value when you wish, whether a string is immutable."
   ]
  },
  {
   "cell_type": "markdown",
   "metadata": {},
   "source": [
    "14-->\n",
    "How do you type a tuple value that only contains the integer 42?\n",
    "\n",
    "To type a touple value that only contains the interger 42:\n",
    "\n",
    "my_touple = (42,)"
   ]
  },
  {
   "cell_type": "markdown",
   "metadata": {},
   "source": [
    "15-->\n",
    "\n",
    "list = [1,2,3]\n",
    "\n",
    "touple = touple(list)\n",
    "\n",
    "list = list(touple)"
   ]
  },
  {
   "cell_type": "markdown",
   "metadata": {},
   "source": [
    "16-->\n",
    "\n",
    "Variables that &quot;contain&quot; list values are not necessarily lists themselves. Instead, what do they\n",
    "contain?\n",
    "\n",
    "Variables that 'contain' list values are not necessarily list themselves becuse they are acutaally pointer or memory locations. In other words, variables which hold lists are momory address rather than the list itself."
   ]
  },
  {
   "cell_type": "markdown",
   "metadata": {},
   "source": [
    "17-->\n",
    "\n",
    " copy.copy() creates a shallow copy of an object and then inserts references into the objects found in the original. It copies the object itself but not the elements withing the objects (like lists and dictionaries), it creates new references to the same nested objects rather tahn copying them. Shallow copies are useful when you want to create a new object with the same structure as the original but don't need a completely independent copy.\n",
    "\n",
    "    Example:\n",
    "\n",
    "    import copy\n",
    "\n",
    "    original_list = [1, [2,3], 4]\n",
    "\n",
    "    shallow_copy = copy.copy(original_list)\n",
    "\n",
    "    #modify the shallow copy\n",
    "\n",
    "    shallow_copy[0] = 100\n",
    "    \n",
    "    shallow_copy[1][0] = 200\n",
    "\n",
    "    print(original_lsit) #[1,[200,3], 4]\n",
    "\n",
    "    print(shallow_copy) #[100,[200,3],4]\n",
    "\n",
    "\n",
    "    On the other hand, copy.deepcopy() creates deep copy of an object. A deep copy constructs a new compound object and then, recursively, inserts copies into it of the objects found in the original. It creates a completely independent copy of the original object and all nested objects within it. Even if the original object contains nested objects, the deep copy creates new copies of those nested objects as well. Deeep copies are useful when you need a completely independent copy of an object and all its contents.\n",
    "\n",
    "    Example:\n",
    "\n",
    "    insert copy\n",
    "\n",
    "    original_list = [1,[2,3],4]\n",
    "    \n",
    "    deep_copy = copy.deepcopy(original_list)\n",
    "\n",
    "    #modify the deep copy\n",
    "\n",
    "    deep_copy[0] = 100\n",
    "    \n",
    "    deep_copy[1][0] = 200\n",
    "    \n",
    "    print(original_list) #[1,[2,3],4]\n",
    "\n",
    "    print(deep_copy)  #[100,[200,3],4]\n",
    "\n",
    "\n",
    "\n"
   ]
  },
  {
   "cell_type": "code",
   "execution_count": null,
   "metadata": {},
   "outputs": [],
   "source": []
  }
 ],
 "metadata": {
  "kernelspec": {
   "display_name": "Python 3",
   "language": "python",
   "name": "python3"
  },
  "language_info": {
   "codemirror_mode": {
    "name": "ipython",
    "version": 3
   },
   "file_extension": ".py",
   "mimetype": "text/x-python",
   "name": "python",
   "nbconvert_exporter": "python",
   "pygments_lexer": "ipython3",
   "version": "3.12.1"
  }
 },
 "nbformat": 4,
 "nbformat_minor": 2
}
